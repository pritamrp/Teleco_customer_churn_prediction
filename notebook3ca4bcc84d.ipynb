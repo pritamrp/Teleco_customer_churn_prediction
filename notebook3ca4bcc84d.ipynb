{
 "cells": [
  {
   "cell_type": "code",
   "execution_count": 1,
   "id": "582af3e7",
   "metadata": {
    "_cell_guid": "b1076dfc-b9ad-4769-8c92-a6c4dae69d19",
    "_uuid": "8f2839f25d086af736a60e9eeb907d3b93b6e0e5",
    "execution": {
     "iopub.execute_input": "2021-10-11T11:06:24.718184Z",
     "iopub.status.busy": "2021-10-11T11:06:24.716973Z",
     "iopub.status.idle": "2021-10-11T11:06:27.090421Z",
     "shell.execute_reply": "2021-10-11T11:06:27.089622Z",
     "shell.execute_reply.started": "2021-10-11T10:26:32.074455Z"
    },
    "papermill": {
     "duration": 2.399947,
     "end_time": "2021-10-11T11:06:27.090610",
     "exception": false,
     "start_time": "2021-10-11T11:06:24.690663",
     "status": "completed"
    },
    "tags": []
   },
   "outputs": [
    {
     "name": "stdout",
     "output_type": "stream",
     "text": [
      "/kaggle/input/telco-customer-churn/WA_Fn-UseC_-Telco-Customer-Churn.csv\n"
     ]
    }
   ],
   "source": [
    "# This Python 3 environment comes with many helpful analytics libraries installed\n",
    "# It is defined by the kaggle/python Docker image: https://github.com/kaggle/docker-python\n",
    "# For example, here's several helpful packages to load\n",
    "\n",
    "import numpy as np # linear algebra\n",
    "import pandas as pd # data processing, CSV file I/O (e.g. pd.read_csv)\n",
    "import matplotlib.pyplot as plt\n",
    "import seaborn as sns\n",
    "%matplotlib inline\n",
    "import plotly.express as px\n",
    "import plotly.graph_objects as go\n",
    "from plotly.subplots import make_subplots\n",
    "# Input data files are available in the read-only \"../input/\" directory\n",
    "# For example, running this (by clicking run or pressing Shift+Enter) will list all files under the input directory\n",
    "\n",
    "import os\n",
    "for dirname, _, filenames in os.walk('/kaggle/input'):\n",
    "    for filename in filenames:\n",
    "        print(os.path.join(dirname, filename))\n",
    "\n",
    "# You can write up to 20GB to the current directory (/kaggle/working/) that gets preserved as output when you create a version using \"Save & Run All\" \n",
    "# You can also write temporary files to /kaggle/temp/, but they won't be saved outside of the current session"
   ]
  },
  {
   "cell_type": "code",
   "execution_count": 2,
   "id": "47b2c4a1",
   "metadata": {
    "execution": {
     "iopub.execute_input": "2021-10-11T11:06:27.142041Z",
     "iopub.status.busy": "2021-10-11T11:06:27.141365Z",
     "iopub.status.idle": "2021-10-11T11:06:27.204262Z",
     "shell.execute_reply": "2021-10-11T11:06:27.203559Z",
     "shell.execute_reply.started": "2021-10-11T10:26:33.056423Z"
    },
    "papermill": {
     "duration": 0.090062,
     "end_time": "2021-10-11T11:06:27.204409",
     "exception": false,
     "start_time": "2021-10-11T11:06:27.114347",
     "status": "completed"
    },
    "tags": []
   },
   "outputs": [],
   "source": [
    "df = pd.read_csv('../input/telco-customer-churn/WA_Fn-UseC_-Telco-Customer-Churn.csv')"
   ]
  },
  {
   "cell_type": "code",
   "execution_count": 3,
   "id": "ff17617a",
   "metadata": {
    "execution": {
     "iopub.execute_input": "2021-10-11T11:06:27.264546Z",
     "iopub.status.busy": "2021-10-11T11:06:27.257279Z",
     "iopub.status.idle": "2021-10-11T11:06:27.291721Z",
     "shell.execute_reply": "2021-10-11T11:06:27.291088Z",
     "shell.execute_reply.started": "2021-10-11T10:26:33.099746Z"
    },
    "papermill": {
     "duration": 0.065314,
     "end_time": "2021-10-11T11:06:27.291880",
     "exception": false,
     "start_time": "2021-10-11T11:06:27.226566",
     "status": "completed"
    },
    "tags": []
   },
   "outputs": [
    {
     "data": {
      "text/html": [
       "<div>\n",
       "<style scoped>\n",
       "    .dataframe tbody tr th:only-of-type {\n",
       "        vertical-align: middle;\n",
       "    }\n",
       "\n",
       "    .dataframe tbody tr th {\n",
       "        vertical-align: top;\n",
       "    }\n",
       "\n",
       "    .dataframe thead th {\n",
       "        text-align: right;\n",
       "    }\n",
       "</style>\n",
       "<table border=\"1\" class=\"dataframe\">\n",
       "  <thead>\n",
       "    <tr style=\"text-align: right;\">\n",
       "      <th></th>\n",
       "      <th>customerID</th>\n",
       "      <th>gender</th>\n",
       "      <th>SeniorCitizen</th>\n",
       "      <th>Partner</th>\n",
       "      <th>Dependents</th>\n",
       "      <th>tenure</th>\n",
       "      <th>PhoneService</th>\n",
       "      <th>MultipleLines</th>\n",
       "      <th>InternetService</th>\n",
       "      <th>OnlineSecurity</th>\n",
       "      <th>...</th>\n",
       "      <th>DeviceProtection</th>\n",
       "      <th>TechSupport</th>\n",
       "      <th>StreamingTV</th>\n",
       "      <th>StreamingMovies</th>\n",
       "      <th>Contract</th>\n",
       "      <th>PaperlessBilling</th>\n",
       "      <th>PaymentMethod</th>\n",
       "      <th>MonthlyCharges</th>\n",
       "      <th>TotalCharges</th>\n",
       "      <th>Churn</th>\n",
       "    </tr>\n",
       "  </thead>\n",
       "  <tbody>\n",
       "    <tr>\n",
       "      <th>0</th>\n",
       "      <td>7590-VHVEG</td>\n",
       "      <td>Female</td>\n",
       "      <td>0</td>\n",
       "      <td>Yes</td>\n",
       "      <td>No</td>\n",
       "      <td>1</td>\n",
       "      <td>No</td>\n",
       "      <td>No phone service</td>\n",
       "      <td>DSL</td>\n",
       "      <td>No</td>\n",
       "      <td>...</td>\n",
       "      <td>No</td>\n",
       "      <td>No</td>\n",
       "      <td>No</td>\n",
       "      <td>No</td>\n",
       "      <td>Month-to-month</td>\n",
       "      <td>Yes</td>\n",
       "      <td>Electronic check</td>\n",
       "      <td>29.85</td>\n",
       "      <td>29.85</td>\n",
       "      <td>No</td>\n",
       "    </tr>\n",
       "    <tr>\n",
       "      <th>1</th>\n",
       "      <td>5575-GNVDE</td>\n",
       "      <td>Male</td>\n",
       "      <td>0</td>\n",
       "      <td>No</td>\n",
       "      <td>No</td>\n",
       "      <td>34</td>\n",
       "      <td>Yes</td>\n",
       "      <td>No</td>\n",
       "      <td>DSL</td>\n",
       "      <td>Yes</td>\n",
       "      <td>...</td>\n",
       "      <td>Yes</td>\n",
       "      <td>No</td>\n",
       "      <td>No</td>\n",
       "      <td>No</td>\n",
       "      <td>One year</td>\n",
       "      <td>No</td>\n",
       "      <td>Mailed check</td>\n",
       "      <td>56.95</td>\n",
       "      <td>1889.5</td>\n",
       "      <td>No</td>\n",
       "    </tr>\n",
       "    <tr>\n",
       "      <th>2</th>\n",
       "      <td>3668-QPYBK</td>\n",
       "      <td>Male</td>\n",
       "      <td>0</td>\n",
       "      <td>No</td>\n",
       "      <td>No</td>\n",
       "      <td>2</td>\n",
       "      <td>Yes</td>\n",
       "      <td>No</td>\n",
       "      <td>DSL</td>\n",
       "      <td>Yes</td>\n",
       "      <td>...</td>\n",
       "      <td>No</td>\n",
       "      <td>No</td>\n",
       "      <td>No</td>\n",
       "      <td>No</td>\n",
       "      <td>Month-to-month</td>\n",
       "      <td>Yes</td>\n",
       "      <td>Mailed check</td>\n",
       "      <td>53.85</td>\n",
       "      <td>108.15</td>\n",
       "      <td>Yes</td>\n",
       "    </tr>\n",
       "    <tr>\n",
       "      <th>3</th>\n",
       "      <td>7795-CFOCW</td>\n",
       "      <td>Male</td>\n",
       "      <td>0</td>\n",
       "      <td>No</td>\n",
       "      <td>No</td>\n",
       "      <td>45</td>\n",
       "      <td>No</td>\n",
       "      <td>No phone service</td>\n",
       "      <td>DSL</td>\n",
       "      <td>Yes</td>\n",
       "      <td>...</td>\n",
       "      <td>Yes</td>\n",
       "      <td>Yes</td>\n",
       "      <td>No</td>\n",
       "      <td>No</td>\n",
       "      <td>One year</td>\n",
       "      <td>No</td>\n",
       "      <td>Bank transfer (automatic)</td>\n",
       "      <td>42.30</td>\n",
       "      <td>1840.75</td>\n",
       "      <td>No</td>\n",
       "    </tr>\n",
       "    <tr>\n",
       "      <th>4</th>\n",
       "      <td>9237-HQITU</td>\n",
       "      <td>Female</td>\n",
       "      <td>0</td>\n",
       "      <td>No</td>\n",
       "      <td>No</td>\n",
       "      <td>2</td>\n",
       "      <td>Yes</td>\n",
       "      <td>No</td>\n",
       "      <td>Fiber optic</td>\n",
       "      <td>No</td>\n",
       "      <td>...</td>\n",
       "      <td>No</td>\n",
       "      <td>No</td>\n",
       "      <td>No</td>\n",
       "      <td>No</td>\n",
       "      <td>Month-to-month</td>\n",
       "      <td>Yes</td>\n",
       "      <td>Electronic check</td>\n",
       "      <td>70.70</td>\n",
       "      <td>151.65</td>\n",
       "      <td>Yes</td>\n",
       "    </tr>\n",
       "  </tbody>\n",
       "</table>\n",
       "<p>5 rows × 21 columns</p>\n",
       "</div>"
      ],
      "text/plain": [
       "   customerID  gender  SeniorCitizen Partner Dependents  tenure PhoneService  \\\n",
       "0  7590-VHVEG  Female              0     Yes         No       1           No   \n",
       "1  5575-GNVDE    Male              0      No         No      34          Yes   \n",
       "2  3668-QPYBK    Male              0      No         No       2          Yes   \n",
       "3  7795-CFOCW    Male              0      No         No      45           No   \n",
       "4  9237-HQITU  Female              0      No         No       2          Yes   \n",
       "\n",
       "      MultipleLines InternetService OnlineSecurity  ... DeviceProtection  \\\n",
       "0  No phone service             DSL             No  ...               No   \n",
       "1                No             DSL            Yes  ...              Yes   \n",
       "2                No             DSL            Yes  ...               No   \n",
       "3  No phone service             DSL            Yes  ...              Yes   \n",
       "4                No     Fiber optic             No  ...               No   \n",
       "\n",
       "  TechSupport StreamingTV StreamingMovies        Contract PaperlessBilling  \\\n",
       "0          No          No              No  Month-to-month              Yes   \n",
       "1          No          No              No        One year               No   \n",
       "2          No          No              No  Month-to-month              Yes   \n",
       "3         Yes          No              No        One year               No   \n",
       "4          No          No              No  Month-to-month              Yes   \n",
       "\n",
       "               PaymentMethod MonthlyCharges  TotalCharges Churn  \n",
       "0           Electronic check          29.85         29.85    No  \n",
       "1               Mailed check          56.95        1889.5    No  \n",
       "2               Mailed check          53.85        108.15   Yes  \n",
       "3  Bank transfer (automatic)          42.30       1840.75    No  \n",
       "4           Electronic check          70.70        151.65   Yes  \n",
       "\n",
       "[5 rows x 21 columns]"
      ]
     },
     "execution_count": 3,
     "metadata": {},
     "output_type": "execute_result"
    }
   ],
   "source": [
    "df.head()"
   ]
  },
  {
   "cell_type": "code",
   "execution_count": 4,
   "id": "b3e2d7a5",
   "metadata": {
    "execution": {
     "iopub.execute_input": "2021-10-11T11:06:27.353909Z",
     "iopub.status.busy": "2021-10-11T11:06:27.353196Z",
     "iopub.status.idle": "2021-10-11T11:06:27.370650Z",
     "shell.execute_reply": "2021-10-11T11:06:27.370143Z",
     "shell.execute_reply.started": "2021-10-11T10:26:33.133316Z"
    },
    "papermill": {
     "duration": 0.056023,
     "end_time": "2021-10-11T11:06:27.370800",
     "exception": false,
     "start_time": "2021-10-11T11:06:27.314777",
     "status": "completed"
    },
    "tags": []
   },
   "outputs": [
    {
     "data": {
      "text/html": [
       "<div>\n",
       "<style scoped>\n",
       "    .dataframe tbody tr th:only-of-type {\n",
       "        vertical-align: middle;\n",
       "    }\n",
       "\n",
       "    .dataframe tbody tr th {\n",
       "        vertical-align: top;\n",
       "    }\n",
       "\n",
       "    .dataframe thead th {\n",
       "        text-align: right;\n",
       "    }\n",
       "</style>\n",
       "<table border=\"1\" class=\"dataframe\">\n",
       "  <thead>\n",
       "    <tr style=\"text-align: right;\">\n",
       "      <th></th>\n",
       "      <th>SeniorCitizen</th>\n",
       "      <th>tenure</th>\n",
       "      <th>MonthlyCharges</th>\n",
       "    </tr>\n",
       "  </thead>\n",
       "  <tbody>\n",
       "    <tr>\n",
       "      <th>count</th>\n",
       "      <td>7043.000000</td>\n",
       "      <td>7043.000000</td>\n",
       "      <td>7043.000000</td>\n",
       "    </tr>\n",
       "    <tr>\n",
       "      <th>mean</th>\n",
       "      <td>0.162147</td>\n",
       "      <td>32.371149</td>\n",
       "      <td>64.761692</td>\n",
       "    </tr>\n",
       "    <tr>\n",
       "      <th>std</th>\n",
       "      <td>0.368612</td>\n",
       "      <td>24.559481</td>\n",
       "      <td>30.090047</td>\n",
       "    </tr>\n",
       "    <tr>\n",
       "      <th>min</th>\n",
       "      <td>0.000000</td>\n",
       "      <td>0.000000</td>\n",
       "      <td>18.250000</td>\n",
       "    </tr>\n",
       "    <tr>\n",
       "      <th>25%</th>\n",
       "      <td>0.000000</td>\n",
       "      <td>9.000000</td>\n",
       "      <td>35.500000</td>\n",
       "    </tr>\n",
       "    <tr>\n",
       "      <th>50%</th>\n",
       "      <td>0.000000</td>\n",
       "      <td>29.000000</td>\n",
       "      <td>70.350000</td>\n",
       "    </tr>\n",
       "    <tr>\n",
       "      <th>75%</th>\n",
       "      <td>0.000000</td>\n",
       "      <td>55.000000</td>\n",
       "      <td>89.850000</td>\n",
       "    </tr>\n",
       "    <tr>\n",
       "      <th>max</th>\n",
       "      <td>1.000000</td>\n",
       "      <td>72.000000</td>\n",
       "      <td>118.750000</td>\n",
       "    </tr>\n",
       "  </tbody>\n",
       "</table>\n",
       "</div>"
      ],
      "text/plain": [
       "       SeniorCitizen       tenure  MonthlyCharges\n",
       "count    7043.000000  7043.000000     7043.000000\n",
       "mean        0.162147    32.371149       64.761692\n",
       "std         0.368612    24.559481       30.090047\n",
       "min         0.000000     0.000000       18.250000\n",
       "25%         0.000000     9.000000       35.500000\n",
       "50%         0.000000    29.000000       70.350000\n",
       "75%         0.000000    55.000000       89.850000\n",
       "max         1.000000    72.000000      118.750000"
      ]
     },
     "execution_count": 4,
     "metadata": {},
     "output_type": "execute_result"
    }
   ],
   "source": [
    "df.describe()"
   ]
  },
  {
   "cell_type": "code",
   "execution_count": 5,
   "id": "44a02a8d",
   "metadata": {
    "execution": {
     "iopub.execute_input": "2021-10-11T11:06:27.441309Z",
     "iopub.status.busy": "2021-10-11T11:06:27.438419Z",
     "iopub.status.idle": "2021-10-11T11:06:27.445038Z",
     "shell.execute_reply": "2021-10-11T11:06:27.444409Z",
     "shell.execute_reply.started": "2021-10-11T10:26:33.155285Z"
    },
    "papermill": {
     "duration": 0.0505,
     "end_time": "2021-10-11T11:06:27.445186",
     "exception": false,
     "start_time": "2021-10-11T11:06:27.394686",
     "status": "completed"
    },
    "tags": []
   },
   "outputs": [
    {
     "data": {
      "text/plain": [
       "customerID          0\n",
       "gender              0\n",
       "SeniorCitizen       0\n",
       "Partner             0\n",
       "Dependents          0\n",
       "tenure              0\n",
       "PhoneService        0\n",
       "MultipleLines       0\n",
       "InternetService     0\n",
       "OnlineSecurity      0\n",
       "OnlineBackup        0\n",
       "DeviceProtection    0\n",
       "TechSupport         0\n",
       "StreamingTV         0\n",
       "StreamingMovies     0\n",
       "Contract            0\n",
       "PaperlessBilling    0\n",
       "PaymentMethod       0\n",
       "MonthlyCharges      0\n",
       "TotalCharges        0\n",
       "Churn               0\n",
       "dtype: int64"
      ]
     },
     "execution_count": 5,
     "metadata": {},
     "output_type": "execute_result"
    }
   ],
   "source": [
    "df.isnull().sum()"
   ]
  },
  {
   "cell_type": "markdown",
   "id": "780c4349",
   "metadata": {
    "papermill": {
     "duration": 0.023045,
     "end_time": "2021-10-11T11:06:27.491910",
     "exception": false,
     "start_time": "2021-10-11T11:06:27.468865",
     "status": "completed"
    },
    "tags": []
   },
   "source": [
    "We don't have any null values in any feature."
   ]
  },
  {
   "cell_type": "code",
   "execution_count": 6,
   "id": "26810fbf",
   "metadata": {
    "execution": {
     "iopub.execute_input": "2021-10-11T11:06:27.542014Z",
     "iopub.status.busy": "2021-10-11T11:06:27.541315Z",
     "iopub.status.idle": "2021-10-11T11:06:27.569949Z",
     "shell.execute_reply": "2021-10-11T11:06:27.570499Z",
     "shell.execute_reply.started": "2021-10-11T10:26:33.178605Z"
    },
    "papermill": {
     "duration": 0.055328,
     "end_time": "2021-10-11T11:06:27.570668",
     "exception": false,
     "start_time": "2021-10-11T11:06:27.515340",
     "status": "completed"
    },
    "tags": []
   },
   "outputs": [
    {
     "name": "stdout",
     "output_type": "stream",
     "text": [
      "<class 'pandas.core.frame.DataFrame'>\n",
      "RangeIndex: 7043 entries, 0 to 7042\n",
      "Data columns (total 21 columns):\n",
      " #   Column            Non-Null Count  Dtype  \n",
      "---  ------            --------------  -----  \n",
      " 0   customerID        7043 non-null   object \n",
      " 1   gender            7043 non-null   object \n",
      " 2   SeniorCitizen     7043 non-null   int64  \n",
      " 3   Partner           7043 non-null   object \n",
      " 4   Dependents        7043 non-null   object \n",
      " 5   tenure            7043 non-null   int64  \n",
      " 6   PhoneService      7043 non-null   object \n",
      " 7   MultipleLines     7043 non-null   object \n",
      " 8   InternetService   7043 non-null   object \n",
      " 9   OnlineSecurity    7043 non-null   object \n",
      " 10  OnlineBackup      7043 non-null   object \n",
      " 11  DeviceProtection  7043 non-null   object \n",
      " 12  TechSupport       7043 non-null   object \n",
      " 13  StreamingTV       7043 non-null   object \n",
      " 14  StreamingMovies   7043 non-null   object \n",
      " 15  Contract          7043 non-null   object \n",
      " 16  PaperlessBilling  7043 non-null   object \n",
      " 17  PaymentMethod     7043 non-null   object \n",
      " 18  MonthlyCharges    7043 non-null   float64\n",
      " 19  TotalCharges      7043 non-null   object \n",
      " 20  Churn             7043 non-null   object \n",
      "dtypes: float64(1), int64(2), object(18)\n",
      "memory usage: 1.1+ MB\n"
     ]
    }
   ],
   "source": [
    "df.info()"
   ]
  },
  {
   "cell_type": "code",
   "execution_count": 7,
   "id": "4677825a",
   "metadata": {
    "execution": {
     "iopub.execute_input": "2021-10-11T11:06:27.621779Z",
     "iopub.status.busy": "2021-10-11T11:06:27.621171Z",
     "iopub.status.idle": "2021-10-11T11:06:27.647179Z",
     "shell.execute_reply": "2021-10-11T11:06:27.646501Z",
     "shell.execute_reply.started": "2021-10-11T10:26:33.209728Z"
    },
    "papermill": {
     "duration": 0.052573,
     "end_time": "2021-10-11T11:06:27.647317",
     "exception": false,
     "start_time": "2021-10-11T11:06:27.594744",
     "status": "completed"
    },
    "tags": []
   },
   "outputs": [
    {
     "data": {
      "text/plain": [
       "customerID          7043\n",
       "gender                 2\n",
       "SeniorCitizen          2\n",
       "Partner                2\n",
       "Dependents             2\n",
       "tenure                73\n",
       "PhoneService           2\n",
       "MultipleLines          3\n",
       "InternetService        3\n",
       "OnlineSecurity         3\n",
       "OnlineBackup           3\n",
       "DeviceProtection       3\n",
       "TechSupport            3\n",
       "StreamingTV            3\n",
       "StreamingMovies        3\n",
       "Contract               3\n",
       "PaperlessBilling       2\n",
       "PaymentMethod          4\n",
       "MonthlyCharges      1585\n",
       "TotalCharges        6531\n",
       "Churn                  2\n",
       "dtype: int64"
      ]
     },
     "execution_count": 7,
     "metadata": {},
     "output_type": "execute_result"
    }
   ],
   "source": [
    "df.nunique()"
   ]
  },
  {
   "cell_type": "markdown",
   "id": "39e25376",
   "metadata": {
    "papermill": {
     "duration": 0.02429,
     "end_time": "2021-10-11T11:06:27.695845",
     "exception": false,
     "start_time": "2021-10-11T11:06:27.671555",
     "status": "completed"
    },
    "tags": []
   },
   "source": [
    "We have many features with two or three Categorical values. We would proceed with getting numeric values for them get_dummies function from pandas library."
   ]
  },
  {
   "cell_type": "code",
   "execution_count": 8,
   "id": "f6ed00e9",
   "metadata": {
    "execution": {
     "iopub.execute_input": "2021-10-11T11:06:27.751152Z",
     "iopub.status.busy": "2021-10-11T11:06:27.747800Z",
     "iopub.status.idle": "2021-10-11T11:06:27.783482Z",
     "shell.execute_reply": "2021-10-11T11:06:27.782907Z",
     "shell.execute_reply.started": "2021-10-11T10:26:33.233828Z"
    },
    "papermill": {
     "duration": 0.063385,
     "end_time": "2021-10-11T11:06:27.783629",
     "exception": false,
     "start_time": "2021-10-11T11:06:27.720244",
     "status": "completed"
    },
    "tags": []
   },
   "outputs": [],
   "source": [
    "Data = pd.get_dummies(df, columns = ['gender', 'Partner', 'Dependents','PhoneService','MultipleLines','InternetService','OnlineSecurity','OnlineBackup','DeviceProtection','TechSupport','StreamingTV','StreamingMovies','Contract','PaperlessBilling','PaymentMethod','Churn'], drop_first = True)"
   ]
  },
  {
   "cell_type": "code",
   "execution_count": 9,
   "id": "fd06e227",
   "metadata": {
    "execution": {
     "iopub.execute_input": "2021-10-11T11:06:27.839965Z",
     "iopub.status.busy": "2021-10-11T11:06:27.839305Z",
     "iopub.status.idle": "2021-10-11T11:06:27.855595Z",
     "shell.execute_reply": "2021-10-11T11:06:27.856221Z",
     "shell.execute_reply.started": "2021-10-11T10:26:33.270663Z"
    },
    "papermill": {
     "duration": 0.048488,
     "end_time": "2021-10-11T11:06:27.856395",
     "exception": false,
     "start_time": "2021-10-11T11:06:27.807907",
     "status": "completed"
    },
    "tags": []
   },
   "outputs": [
    {
     "data": {
      "text/html": [
       "<div>\n",
       "<style scoped>\n",
       "    .dataframe tbody tr th:only-of-type {\n",
       "        vertical-align: middle;\n",
       "    }\n",
       "\n",
       "    .dataframe tbody tr th {\n",
       "        vertical-align: top;\n",
       "    }\n",
       "\n",
       "    .dataframe thead th {\n",
       "        text-align: right;\n",
       "    }\n",
       "</style>\n",
       "<table border=\"1\" class=\"dataframe\">\n",
       "  <thead>\n",
       "    <tr style=\"text-align: right;\">\n",
       "      <th></th>\n",
       "      <th>customerID</th>\n",
       "      <th>SeniorCitizen</th>\n",
       "      <th>tenure</th>\n",
       "      <th>MonthlyCharges</th>\n",
       "      <th>TotalCharges</th>\n",
       "      <th>gender_Male</th>\n",
       "      <th>Partner_Yes</th>\n",
       "      <th>Dependents_Yes</th>\n",
       "      <th>PhoneService_Yes</th>\n",
       "      <th>MultipleLines_No phone service</th>\n",
       "      <th>...</th>\n",
       "      <th>StreamingTV_Yes</th>\n",
       "      <th>StreamingMovies_No internet service</th>\n",
       "      <th>StreamingMovies_Yes</th>\n",
       "      <th>Contract_One year</th>\n",
       "      <th>Contract_Two year</th>\n",
       "      <th>PaperlessBilling_Yes</th>\n",
       "      <th>PaymentMethod_Credit card (automatic)</th>\n",
       "      <th>PaymentMethod_Electronic check</th>\n",
       "      <th>PaymentMethod_Mailed check</th>\n",
       "      <th>Churn_Yes</th>\n",
       "    </tr>\n",
       "  </thead>\n",
       "  <tbody>\n",
       "    <tr>\n",
       "      <th>0</th>\n",
       "      <td>7590-VHVEG</td>\n",
       "      <td>0</td>\n",
       "      <td>1</td>\n",
       "      <td>29.85</td>\n",
       "      <td>29.85</td>\n",
       "      <td>0</td>\n",
       "      <td>1</td>\n",
       "      <td>0</td>\n",
       "      <td>0</td>\n",
       "      <td>1</td>\n",
       "      <td>...</td>\n",
       "      <td>0</td>\n",
       "      <td>0</td>\n",
       "      <td>0</td>\n",
       "      <td>0</td>\n",
       "      <td>0</td>\n",
       "      <td>1</td>\n",
       "      <td>0</td>\n",
       "      <td>1</td>\n",
       "      <td>0</td>\n",
       "      <td>0</td>\n",
       "    </tr>\n",
       "    <tr>\n",
       "      <th>1</th>\n",
       "      <td>5575-GNVDE</td>\n",
       "      <td>0</td>\n",
       "      <td>34</td>\n",
       "      <td>56.95</td>\n",
       "      <td>1889.5</td>\n",
       "      <td>1</td>\n",
       "      <td>0</td>\n",
       "      <td>0</td>\n",
       "      <td>1</td>\n",
       "      <td>0</td>\n",
       "      <td>...</td>\n",
       "      <td>0</td>\n",
       "      <td>0</td>\n",
       "      <td>0</td>\n",
       "      <td>1</td>\n",
       "      <td>0</td>\n",
       "      <td>0</td>\n",
       "      <td>0</td>\n",
       "      <td>0</td>\n",
       "      <td>1</td>\n",
       "      <td>0</td>\n",
       "    </tr>\n",
       "    <tr>\n",
       "      <th>2</th>\n",
       "      <td>3668-QPYBK</td>\n",
       "      <td>0</td>\n",
       "      <td>2</td>\n",
       "      <td>53.85</td>\n",
       "      <td>108.15</td>\n",
       "      <td>1</td>\n",
       "      <td>0</td>\n",
       "      <td>0</td>\n",
       "      <td>1</td>\n",
       "      <td>0</td>\n",
       "      <td>...</td>\n",
       "      <td>0</td>\n",
       "      <td>0</td>\n",
       "      <td>0</td>\n",
       "      <td>0</td>\n",
       "      <td>0</td>\n",
       "      <td>1</td>\n",
       "      <td>0</td>\n",
       "      <td>0</td>\n",
       "      <td>1</td>\n",
       "      <td>1</td>\n",
       "    </tr>\n",
       "    <tr>\n",
       "      <th>3</th>\n",
       "      <td>7795-CFOCW</td>\n",
       "      <td>0</td>\n",
       "      <td>45</td>\n",
       "      <td>42.30</td>\n",
       "      <td>1840.75</td>\n",
       "      <td>1</td>\n",
       "      <td>0</td>\n",
       "      <td>0</td>\n",
       "      <td>0</td>\n",
       "      <td>1</td>\n",
       "      <td>...</td>\n",
       "      <td>0</td>\n",
       "      <td>0</td>\n",
       "      <td>0</td>\n",
       "      <td>1</td>\n",
       "      <td>0</td>\n",
       "      <td>0</td>\n",
       "      <td>0</td>\n",
       "      <td>0</td>\n",
       "      <td>0</td>\n",
       "      <td>0</td>\n",
       "    </tr>\n",
       "    <tr>\n",
       "      <th>4</th>\n",
       "      <td>9237-HQITU</td>\n",
       "      <td>0</td>\n",
       "      <td>2</td>\n",
       "      <td>70.70</td>\n",
       "      <td>151.65</td>\n",
       "      <td>0</td>\n",
       "      <td>0</td>\n",
       "      <td>0</td>\n",
       "      <td>1</td>\n",
       "      <td>0</td>\n",
       "      <td>...</td>\n",
       "      <td>0</td>\n",
       "      <td>0</td>\n",
       "      <td>0</td>\n",
       "      <td>0</td>\n",
       "      <td>0</td>\n",
       "      <td>1</td>\n",
       "      <td>0</td>\n",
       "      <td>1</td>\n",
       "      <td>0</td>\n",
       "      <td>1</td>\n",
       "    </tr>\n",
       "  </tbody>\n",
       "</table>\n",
       "<p>5 rows × 32 columns</p>\n",
       "</div>"
      ],
      "text/plain": [
       "   customerID  SeniorCitizen  tenure  MonthlyCharges TotalCharges  \\\n",
       "0  7590-VHVEG              0       1           29.85        29.85   \n",
       "1  5575-GNVDE              0      34           56.95       1889.5   \n",
       "2  3668-QPYBK              0       2           53.85       108.15   \n",
       "3  7795-CFOCW              0      45           42.30      1840.75   \n",
       "4  9237-HQITU              0       2           70.70       151.65   \n",
       "\n",
       "   gender_Male  Partner_Yes  Dependents_Yes  PhoneService_Yes  \\\n",
       "0            0            1               0                 0   \n",
       "1            1            0               0                 1   \n",
       "2            1            0               0                 1   \n",
       "3            1            0               0                 0   \n",
       "4            0            0               0                 1   \n",
       "\n",
       "   MultipleLines_No phone service  ...  StreamingTV_Yes  \\\n",
       "0                               1  ...                0   \n",
       "1                               0  ...                0   \n",
       "2                               0  ...                0   \n",
       "3                               1  ...                0   \n",
       "4                               0  ...                0   \n",
       "\n",
       "   StreamingMovies_No internet service  StreamingMovies_Yes  \\\n",
       "0                                    0                    0   \n",
       "1                                    0                    0   \n",
       "2                                    0                    0   \n",
       "3                                    0                    0   \n",
       "4                                    0                    0   \n",
       "\n",
       "   Contract_One year  Contract_Two year  PaperlessBilling_Yes  \\\n",
       "0                  0                  0                     1   \n",
       "1                  1                  0                     0   \n",
       "2                  0                  0                     1   \n",
       "3                  1                  0                     0   \n",
       "4                  0                  0                     1   \n",
       "\n",
       "   PaymentMethod_Credit card (automatic)  PaymentMethod_Electronic check  \\\n",
       "0                                      0                               1   \n",
       "1                                      0                               0   \n",
       "2                                      0                               0   \n",
       "3                                      0                               0   \n",
       "4                                      0                               1   \n",
       "\n",
       "   PaymentMethod_Mailed check  Churn_Yes  \n",
       "0                           0          0  \n",
       "1                           1          0  \n",
       "2                           1          1  \n",
       "3                           0          0  \n",
       "4                           0          1  \n",
       "\n",
       "[5 rows x 32 columns]"
      ]
     },
     "execution_count": 9,
     "metadata": {},
     "output_type": "execute_result"
    }
   ],
   "source": [
    "Data.head()"
   ]
  },
  {
   "cell_type": "code",
   "execution_count": 10,
   "id": "d4f3e32d",
   "metadata": {
    "execution": {
     "iopub.execute_input": "2021-10-11T11:06:27.909744Z",
     "iopub.status.busy": "2021-10-11T11:06:27.909139Z",
     "iopub.status.idle": "2021-10-11T11:06:27.919885Z",
     "shell.execute_reply": "2021-10-11T11:06:27.919274Z",
     "shell.execute_reply.started": "2021-10-11T10:26:33.297347Z"
    },
    "papermill": {
     "duration": 0.038516,
     "end_time": "2021-10-11T11:06:27.920037",
     "exception": false,
     "start_time": "2021-10-11T11:06:27.881521",
     "status": "completed"
    },
    "tags": []
   },
   "outputs": [],
   "source": [
    "Data.TotalCharges = pd.to_numeric(Data.TotalCharges, errors='coerce')"
   ]
  },
  {
   "cell_type": "code",
   "execution_count": 11,
   "id": "be953637",
   "metadata": {
    "execution": {
     "iopub.execute_input": "2021-10-11T11:06:27.974557Z",
     "iopub.status.busy": "2021-10-11T11:06:27.973871Z",
     "iopub.status.idle": "2021-10-11T11:06:28.987035Z",
     "shell.execute_reply": "2021-10-11T11:06:28.986370Z",
     "shell.execute_reply.started": "2021-10-11T10:26:33.310421Z"
    },
    "papermill": {
     "duration": 1.041988,
     "end_time": "2021-10-11T11:06:28.987190",
     "exception": false,
     "start_time": "2021-10-11T11:06:27.945202",
     "status": "completed"
    },
    "tags": []
   },
   "outputs": [
    {
     "data": {
      "image/png": "[encoded data removed]",
      "text/plain": [
       "<Figure size 648x288 with 1 Axes>"
      ]
     },
     "metadata": {
      "needs_background": "light"
     },
     "output_type": "display_data"
    },
    {
     "data": {
      "image/png": "[encoded data removed]",
      "text/plain": [
       "<Figure size 648x288 with 1 Axes>"
      ]
     },
     "metadata": {
      "needs_background": "light"
     },
     "output_type": "display_data"
    },
    {
     "data": {
      "image/png": "[encoded data removed]",
      "text/plain": [
       "<Figure size 648x288 with 1 Axes>"
      ]
     },
     "metadata": {
      "needs_background": "light"
     },
     "output_type": "display_data"
    },
    {
     "data": {
      "image/png": "[encoded data removed]",
      "text/plain": [
       "<Figure size 648x288 with 1 Axes>"
      ]
     },
     "metadata": {
      "needs_background": "light"
     },
     "output_type": "display_data"
    }
   ],
   "source": [
    "def kdeplot(feature):\n",
    "    plt.figure(figsize=(9, 4))\n",
    "    plt.title(\"KDE for {}\".format(feature))\n",
    "    ax0 = sns.kdeplot(Data[Data['Churn_Yes'] == 0][feature].dropna(), color= 'deepskyblue', label= 'Churn: No')\n",
    "    ax1 = sns.kdeplot(Data[Data['Churn_Yes'] == 1][feature].dropna(), color= 'yellowgreen', label= 'Churn: Yes')\n",
    "kdeplot('tenure')\n",
    "kdeplot('MonthlyCharges')\n",
    "kdeplot('SeniorCitizen')\n",
    "kdeplot('TotalCharges')\n"
   ]
  },
  {
   "cell_type": "markdown",
   "id": "46154eec",
   "metadata": {
    "papermill": {
     "duration": 0.029835,
     "end_time": "2021-10-11T11:06:29.048524",
     "exception": false,
     "start_time": "2021-10-11T11:06:29.018689",
     "status": "completed"
    },
    "tags": []
   },
   "source": [
    "We have plot the KDE plots for the numeric features in the dataset. \n",
    "1) The Customer with less tenure have the maximum churn.\n",
    "2) Customers with high Monthly Charges have the maximum churn.\n",
    "3) Customers who are senior citizens have the minimum churn.\n",
    "4) Customers with high Total Charges have the maximum churn."
   ]
  },
  {
   "cell_type": "markdown",
   "id": "867a3013",
   "metadata": {
    "papermill": {
     "duration": 0.029349,
     "end_time": "2021-10-11T11:06:29.107621",
     "exception": false,
     "start_time": "2021-10-11T11:06:29.078272",
     "status": "completed"
    },
    "tags": []
   },
   "source": [
    "We will first plot pie charts for Churn of Customer and Gender."
   ]
  },
  {
   "cell_type": "code",
   "execution_count": 12,
   "id": "13330363",
   "metadata": {
    "execution": {
     "iopub.execute_input": "2021-10-11T11:06:29.175318Z",
     "iopub.status.busy": "2021-10-11T11:06:29.174551Z",
     "iopub.status.idle": "2021-10-11T11:06:29.380756Z",
     "shell.execute_reply": "2021-10-11T11:06:29.380144Z",
     "shell.execute_reply.started": "2021-10-11T10:26:34.507559Z"
    },
    "papermill": {
     "duration": 0.242922,
     "end_time": "2021-10-11T11:06:29.380917",
     "exception": false,
     "start_time": "2021-10-11T11:06:29.137995",
     "status": "completed"
    },
    "tags": []
   },
   "outputs": [
    {
     "data": {
      "text/html": [
       "        <script type=\"text/javascript\">\n",
       "        window.PlotlyConfig = {MathJaxConfig: 'local'};\n",
       "        if (window.MathJax) {MathJax.Hub.Config({SVG: {font: \"STIX-Web\"}});}\n",
       "        if (typeof require !== 'undefined') {\n",
       "        require.undef(\"plotly\");\n",
       "        requirejs.config({\n",
       "            paths: {\n",
       "                'plotly': ['https://cdn.plot.ly/plotly-2.4.2.min']\n",
       "            }\n",
       "        });\n",
       "        require(['plotly'], function(Plotly) {\n",
       "            window._Plotly = Plotly;\n",
       "        });\n",
       "        }\n",
       "        </script>\n",
       "        "
      ]
     },
     "metadata": {},
     "output_type": "display_data"
    },
    {
     "data": {
      "text/html": [
       "<div>                            <div id=\"2bc98e6b-3596-4bae-8b29-5e5b8cd0e9e7\" class=\"plotly-graph-div\" style=\"height:525px; width:100%;\"></div>            <script type=\"text/javascript\">                require([\"plotly\"], function(Plotly) {                    window.PLOTLYENV=window.PLOTLYENV || {};                                    if (document.getElementById(\"2bc98e6b-3596-4bae-8b29-5e5b8cd0e9e7\")) {                    Plotly.newPlot(                        \"2bc98e6b-3596-4bae-8b29-5e5b8cd0e9e7\",                        [{\"domain\":{\"x\":[0.0,0.45],\"y\":[0.0,1.0]},\"labels\":[\"Male\",\"Female\"],\"name\":\"Gender\",\"type\":\"pie\",\"values\":[3555,3488]},{\"domain\":{\"x\":[0.55,1.0],\"y\":[0.0,1.0]},\"labels\":[\"No\",\"Yes\"],\"name\":\"Churn\",\"type\":\"pie\",\"values\":[5174,1869]}],                        {\"template\":{\"data\":{\"bar\":[{\"error_x\":{\"color\":\"#2a3f5f\"},\"error_y\":{\"color\":\"#2a3f5f\"},\"marker\":{\"line\":{\"color\":\"#E5ECF6\",\"width\":0.5},\"pattern\":{\"fillmode\":\"overlay\",\"size\":10,\"solidity\":0.2}},\"type\":\"bar\"}],\"barpolar\":[{\"marker\":{\"line\":{\"color\":\"#E5ECF6\",\"width\":0.5},\"pattern\":{\"fillmode\":\"overlay\",\"size\":10,\"solidity\":0.2}},\"type\":\"barpolar\"}],\"carpet\":[{\"aaxis\":{\"endlinecolor\":\"#2a3f5f\",\"gridcolor\":\"white\",\"linecolor\":\"white\",\"minorgridcolor\":\"white\",\"startlinecolor\":\"#2a3f5f\"},\"baxis\":{\"endlinecolor\":\"#2a3f5f\",\"gridcolor\":\"white\",\"linecolor\":\"white\",\"minorgridcolor\":\"white\",\"startlinecolor\":\"#2a3f5f\"},\"type\":\"carpet\"}],\"choropleth\":[{\"colorbar\":{\"outlinewidth\":0,\"ticks\":\"\"},\"type\":\"choropleth\"}],\"contour\":[{\"colorbar\":{\"outlinewidth\":0,\"ticks\":\"\"},\"colorscale\":[[0.0,\"#0d0887\"],[0.1111111111111111,\"#46039f\"],[0.2222222222222222,\"#7201a8\"],[0.3333333333333333,\"#9c179e\"],[0.4444444444444444,\"#bd3786\"],[0.5555555555555556,\"#d8576b\"],[0.6666666666666666,\"#ed7953\"],[0.7777777777777778,\"#fb9f3a\"],[0.8888888888888888,\"#fdca26\"],[1.0,\"#f0f921\"]],\"type\":\"contour\"}],\"contourcarpet\":[{\"colorbar\":{\"outlinewidth\":0,\"ticks\":\"\"},\"type\":\"contourcarpet\"}],\"heatmap\":[{\"colorbar\":{\"outlinewidth\":0,\"ticks\":\"\"},\"colorscale\":[[0.0,\"#0d0887\"],[0.1111111111111111,\"#46039f\"],[0.2222222222222222,\"#7201a8\"],[0.3333333333333333,\"#9c179e\"],[0.4444444444444444,\"#bd3786\"],[0.5555555555555556,\"#d8576b\"],[0.6666666666666666,\"#ed7953\"],[0.7777777777777778,\"#fb9f3a\"],[0.8888888888888888,\"#fdca26\"],[1.0,\"#f0f921\"]],\"type\":\"heatmap\"}],\"heatmapgl\":[{\"colorbar\":{\"outlinewidth\":0,\"ticks\":\"\"},\"colorscale\":[[0.0,\"#0d0887\"],[0.1111111111111111,\"#46039f\"],[0.2222222222222222,\"#7201a8\"],[0.3333333333333333,\"#9c179e\"],[0.4444444444444444,\"#bd3786\"],[0.5555555555555556,\"#d8576b\"],[0.6666666666666666,\"#ed7953\"],[0.7777777777777778,\"#fb9f3a\"],[0.8888888888888888,\"#fdca26\"],[1.0,\"#f0f921\"]],\"type\":\"heatmapgl\"}],\"histogram\":[{\"marker\":{\"pattern\":{\"fillmode\":\"overlay\",\"size\":10,\"solidity\":0.2}},\"type\":\"histogram\"}],\"histogram2d\":[{\"colorbar\":{\"outlinewidth\":0,\"ticks\":\"\"},\"colorscale\":[[0.0,\"#0d0887\"],[0.1111111111111111,\"#46039f\"],[0.2222222222222222,\"#7201a8\"],[0.3333333333333333,\"#9c179e\"],[0.4444444444444444,\"#bd3786\"],[0.5555555555555556,\"#d8576b\"],[0.6666666666666666,\"#ed7953\"],[0.7777777777777778,\"#fb9f3a\"],[0.8888888888888888,\"#fdca26\"],[1.0,\"#f0f921\"]],\"type\":\"histogram2d\"}],\"histogram2dcontour\":[{\"colorbar\":{\"outlinewidth\":0,\"ticks\":\"\"},\"colorscale\":[[0.0,\"#0d0887\"],[0.1111111111111111,\"#46039f\"],[0.2222222222222222,\"#7201a8\"],[0.3333333333333333,\"#9c179e\"],[0.4444444444444444,\"#bd3786\"],[0.5555555555555556,\"#d8576b\"],[0.6666666666666666,\"#ed7953\"],[0.7777777777777778,\"#fb9f3a\"],[0.8888888888888888,\"#fdca26\"],[1.0,\"#f0f921\"]],\"type\":\"histogram2dcontour\"}],\"mesh3d\":[{\"colorbar\":{\"outlinewidth\":0,\"ticks\":\"\"},\"type\":\"mesh3d\"}],\"parcoords\":[{\"line\":{\"colorbar\":{\"outlinewidth\":0,\"ticks\":\"\"}},\"type\":\"parcoords\"}],\"pie\":[{\"automargin\":true,\"type\":\"pie\"}],\"scatter\":[{\"marker\":{\"colorbar\":{\"outlinewidth\":0,\"ticks\":\"\"}},\"type\":\"scatter\"}],\"scatter3d\":[{\"line\":{\"colorbar\":{\"outlinewidth\":0,\"ticks\":\"\"}},\"marker\":{\"colorbar\":{\"outlinewidth\":0,\"ticks\":\"\"}},\"type\":\"scatter3d\"}],\"scattercarpet\":[{\"marker\":{\"colorbar\":{\"outlinewidth\":0,\"ticks\":\"\"}},\"type\":\"scattercarpet\"}],\"scattergeo\":[{\"marker\":{\"colorbar\":{\"outlinewidth\":0,\"ticks\":\"\"}},\"type\":\"scattergeo\"}],\"scattergl\":[{\"marker\":{\"colorbar\":{\"outlinewidth\":0,\"ticks\":\"\"}},\"type\":\"scattergl\"}],\"scattermapbox\":[{\"marker\":{\"colorbar\":{\"outlinewidth\":0,\"ticks\":\"\"}},\"type\":\"scattermapbox\"}],\"scatterpolar\":[{\"marker\":{\"colorbar\":{\"outlinewidth\":0,\"ticks\":\"\"}},\"type\":\"scatterpolar\"}],\"scatterpolargl\":[{\"marker\":{\"colorbar\":{\"outlinewidth\":0,\"ticks\":\"\"}},\"type\":\"scatterpolargl\"}],\"scatterternary\":[{\"marker\":{\"colorbar\":{\"outlinewidth\":0,\"ticks\":\"\"}},\"type\":\"scatterternary\"}],\"surface\":[{\"colorbar\":{\"outlinewidth\":0,\"ticks\":\"\"},\"colorscale\":[[0.0,\"#0d0887\"],[0.1111111111111111,\"#46039f\"],[0.2222222222222222,\"#7201a8\"],[0.3333333333333333,\"#9c179e\"],[0.4444444444444444,\"#bd3786\"],[0.5555555555555556,\"#d8576b\"],[0.6666666666666666,\"#ed7953\"],[0.7777777777777778,\"#fb9f3a\"],[0.8888888888888888,\"#fdca26\"],[1.0,\"#f0f921\"]],\"type\":\"surface\"}],\"table\":[{\"cells\":{\"fill\":{\"color\":\"#EBF0F8\"},\"line\":{\"color\":\"white\"}},\"header\":{\"fill\":{\"color\":\"#C8D4E3\"},\"line\":{\"color\":\"white\"}},\"type\":\"table\"}]},\"layout\":{\"annotationdefaults\":{\"arrowcolor\":\"#2a3f5f\",\"arrowhead\":0,\"arrowwidth\":1},\"autotypenumbers\":\"strict\",\"coloraxis\":{\"colorbar\":{\"outlinewidth\":0,\"ticks\":\"\"}},\"colorscale\":{\"diverging\":[[0,\"#8e0152\"],[0.1,\"#c51b7d\"],[0.2,\"#de77ae\"],[0.3,\"#f1b6da\"],[0.4,\"#fde0ef\"],[0.5,\"#f7f7f7\"],[0.6,\"#e6f5d0\"],[0.7,\"#b8e186\"],[0.8,\"#7fbc41\"],[0.9,\"#4d9221\"],[1,\"#276419\"]],\"sequential\":[[0.0,\"#0d0887\"],[0.1111111111111111,\"#46039f\"],[0.2222222222222222,\"#7201a8\"],[0.3333333333333333,\"#9c179e\"],[0.4444444444444444,\"#bd3786\"],[0.5555555555555556,\"#d8576b\"],[0.6666666666666666,\"#ed7953\"],[0.7777777777777778,\"#fb9f3a\"],[0.8888888888888888,\"#fdca26\"],[1.0,\"#f0f921\"]],\"sequentialminus\":[[0.0,\"#0d0887\"],[0.1111111111111111,\"#46039f\"],[0.2222222222222222,\"#7201a8\"],[0.3333333333333333,\"#9c179e\"],[0.4444444444444444,\"#bd3786\"],[0.5555555555555556,\"#d8576b\"],[0.6666666666666666,\"#ed7953\"],[0.7777777777777778,\"#fb9f3a\"],[0.8888888888888888,\"#fdca26\"],[1.0,\"#f0f921\"]]},\"colorway\":[\"#636efa\",\"#EF553B\",\"#00cc96\",\"#ab63fa\",\"#FFA15A\",\"#19d3f3\",\"#FF6692\",\"#B6E880\",\"#FF97FF\",\"#FECB52\"],\"font\":{\"color\":\"#2a3f5f\"},\"geo\":{\"bgcolor\":\"white\",\"lakecolor\":\"white\",\"landcolor\":\"#E5ECF6\",\"showlakes\":true,\"showland\":true,\"subunitcolor\":\"white\"},\"hoverlabel\":{\"align\":\"left\"},\"hovermode\":\"closest\",\"mapbox\":{\"style\":\"light\"},\"paper_bgcolor\":\"white\",\"plot_bgcolor\":\"#E5ECF6\",\"polar\":{\"angularaxis\":{\"gridcolor\":\"white\",\"linecolor\":\"white\",\"ticks\":\"\"},\"bgcolor\":\"#E5ECF6\",\"radialaxis\":{\"gridcolor\":\"white\",\"linecolor\":\"white\",\"ticks\":\"\"}},\"scene\":{\"xaxis\":{\"backgroundcolor\":\"#E5ECF6\",\"gridcolor\":\"white\",\"gridwidth\":2,\"linecolor\":\"white\",\"showbackground\":true,\"ticks\":\"\",\"zerolinecolor\":\"white\"},\"yaxis\":{\"backgroundcolor\":\"#E5ECF6\",\"gridcolor\":\"white\",\"gridwidth\":2,\"linecolor\":\"white\",\"showbackground\":true,\"ticks\":\"\",\"zerolinecolor\":\"white\"},\"zaxis\":{\"backgroundcolor\":\"#E5ECF6\",\"gridcolor\":\"white\",\"gridwidth\":2,\"linecolor\":\"white\",\"showbackground\":true,\"ticks\":\"\",\"zerolinecolor\":\"white\"}},\"shapedefaults\":{\"line\":{\"color\":\"#2a3f5f\"}},\"ternary\":{\"aaxis\":{\"gridcolor\":\"white\",\"linecolor\":\"white\",\"ticks\":\"\"},\"baxis\":{\"gridcolor\":\"white\",\"linecolor\":\"white\",\"ticks\":\"\"},\"bgcolor\":\"#E5ECF6\",\"caxis\":{\"gridcolor\":\"white\",\"linecolor\":\"white\",\"ticks\":\"\"}},\"title\":{\"x\":0.05},\"xaxis\":{\"automargin\":true,\"gridcolor\":\"white\",\"linecolor\":\"white\",\"ticks\":\"\",\"title\":{\"standoff\":15},\"zerolinecolor\":\"white\",\"zerolinewidth\":2},\"yaxis\":{\"automargin\":true,\"gridcolor\":\"white\",\"linecolor\":\"white\",\"ticks\":\"\",\"title\":{\"standoff\":15},\"zerolinecolor\":\"white\",\"zerolinewidth\":2}}}},                        {\"responsive\": true}                    ).then(function(){\n",
       "                            \n",
       "var gd = document.getElementById('2bc98e6b-3596-4bae-8b29-5e5b8cd0e9e7');\n",
       "var x = new MutationObserver(function (mutations, observer) {{\n",
       "        var display = window.getComputedStyle(gd).display;\n",
       "        if (!display || display === 'none') {{\n",
       "            console.log([gd, 'removed!']);\n",
       "            Plotly.purge(gd);\n",
       "            observer.disconnect();\n",
       "        }}\n",
       "}});\n",
       "\n",
       "// Listen for the removal of the full notebook cells\n",
       "var notebookContainer = gd.closest('#notebook-container');\n",
       "if (notebookContainer) {{\n",
       "    x.observe(notebookContainer, {childList: true});\n",
       "}}\n",
       "\n",
       "// Listen for the clearing of the current output cell\n",
       "var outputEl = gd.closest('.output');\n",
       "if (outputEl) {{\n",
       "    x.observe(outputEl, {childList: true});\n",
       "}}\n",
       "\n",
       "                        })                };                });            </script>        </div>"
      ]
     },
     "metadata": {},
     "output_type": "display_data"
    }
   ],
   "source": [
    "gender_labels = ['Male', 'Female']\n",
    "chur_labels = ['No', 'Yes']\n",
    "# Create subplots: use 'domain' type for Pie subplot\n",
    "fig = make_subplots(rows=1, cols=2, specs=[[{'type':'domain'}, {'type':'domain'}]])\n",
    "fig.add_trace(go.Pie(labels=gender_labels, values=df['gender'].value_counts(), name=\"Gender\"),\n",
    "              1, 1)\n",
    "fig.add_trace(go.Pie(labels=chur_labels, values=df['Churn'].value_counts(), name=\"Churn\"),\n",
    "              1, 2)"
   ]
  },
  {
   "cell_type": "markdown",
   "id": "764f6703",
   "metadata": {
    "papermill": {
     "duration": 0.030554,
     "end_time": "2021-10-11T11:06:29.442495",
     "exception": false,
     "start_time": "2021-10-11T11:06:29.411941",
     "status": "completed"
    },
    "tags": []
   },
   "source": [
    "We can observe that only is only 0.5 percentage of differance between Gender ratio. It won't contribute much to the Churn."
   ]
  },
  {
   "cell_type": "code",
   "execution_count": 13,
   "id": "862bb281",
   "metadata": {
    "_kg_hide-output": true,
    "execution": {
     "iopub.execute_input": "2021-10-11T11:06:29.510293Z",
     "iopub.status.busy": "2021-10-11T11:06:29.509467Z",
     "iopub.status.idle": "2021-10-11T11:06:29.516647Z",
     "shell.execute_reply": "2021-10-11T11:06:29.515798Z",
     "shell.execute_reply.started": "2021-10-11T10:26:34.598837Z"
    },
    "papermill": {
     "duration": 0.043734,
     "end_time": "2021-10-11T11:06:29.516849",
     "exception": false,
     "start_time": "2021-10-11T11:06:29.473115",
     "status": "completed"
    },
    "tags": []
   },
   "outputs": [
    {
     "name": "stdout",
     "output_type": "stream",
     "text": [
      "930\n",
      "939\n"
     ]
    }
   ],
   "source": [
    "D1 = Data[Data['gender_Male'] == 1]['Churn_Yes'].sum()\n",
    "D2 = Data[Data['gender_Male'] == 0]['Churn_Yes'].sum()\n",
    "print(D1)\n",
    "print(D2)"
   ]
  },
  {
   "cell_type": "code",
   "execution_count": 14,
   "id": "08b296e3",
   "metadata": {
    "execution": {
     "iopub.execute_input": "2021-10-11T11:06:29.585329Z",
     "iopub.status.busy": "2021-10-11T11:06:29.584403Z",
     "iopub.status.idle": "2021-10-11T11:06:29.802204Z",
     "shell.execute_reply": "2021-10-11T11:06:29.802649Z",
     "shell.execute_reply.started": "2021-10-11T10:26:34.611615Z"
    },
    "papermill": {
     "duration": 0.253895,
     "end_time": "2021-10-11T11:06:29.802848",
     "exception": false,
     "start_time": "2021-10-11T11:06:29.548953",
     "status": "completed"
    },
    "tags": []
   },
   "outputs": [
    {
     "data": {
      "image/png": "[encoded data removed]",
      "text/plain": [
       "<Figure size 432x432 with 1 Axes>"
      ]
     },
     "metadata": {
      "needs_background": "light"
     },
     "output_type": "display_data"
    }
   ],
   "source": [
    "plt.figure(figsize=(6, 6))\n",
    "\n",
    "plt.pie([930,939], labels=['Male', 'Female'],autopct='%1.1f%%',pctdistance=1.08, labeldistance=0.8,colors=['#ff6666', '#66b3ff'], startangle=180,frame=True, explode=(0.3,0.3),radius=10,textprops = {\"fontsize\":15}, counterclock = True, )\n",
    "plt.tight_layout()\n",
    "plt.show()"
   ]
  },
  {
   "cell_type": "markdown",
   "id": "856bc59f",
   "metadata": {
    "papermill": {
     "duration": 0.03314,
     "end_time": "2021-10-11T11:06:29.868484",
     "exception": false,
     "start_time": "2021-10-11T11:06:29.835344",
     "status": "completed"
    },
    "tags": []
   },
   "source": [
    "Our initial assumption is valided by the pie chart. There is only 0.4% differance between customer churn based on gender. "
   ]
  },
  {
   "cell_type": "code",
   "execution_count": 15,
   "id": "d8c36b99",
   "metadata": {
    "execution": {
     "iopub.execute_input": "2021-10-11T11:06:29.936328Z",
     "iopub.status.busy": "2021-10-11T11:06:29.935584Z",
     "iopub.status.idle": "2021-10-11T11:06:29.944513Z",
     "shell.execute_reply": "2021-10-11T11:06:29.945251Z",
     "shell.execute_reply.started": "2021-10-11T10:26:34.913200Z"
    },
    "papermill": {
     "duration": 0.044951,
     "end_time": "2021-10-11T11:06:29.945494",
     "exception": false,
     "start_time": "2021-10-11T11:06:29.900543",
     "status": "completed"
    },
    "tags": []
   },
   "outputs": [
    {
     "name": "stdout",
     "output_type": "stream",
     "text": [
      "669\n",
      "1200\n"
     ]
    }
   ],
   "source": [
    "P1 = Data[Data['Partner_Yes'] == 1]['Churn_Yes'].sum()\n",
    "P2 = Data[Data['Partner_Yes'] == 0]['Churn_Yes'].sum()\n",
    "print(P1)\n",
    "print(P2)"
   ]
  },
  {
   "cell_type": "code",
   "execution_count": 16,
   "id": "03687e24",
   "metadata": {
    "execution": {
     "iopub.execute_input": "2021-10-11T11:06:30.045536Z",
     "iopub.status.busy": "2021-10-11T11:06:30.041506Z",
     "iopub.status.idle": "2021-10-11T11:06:30.224280Z",
     "shell.execute_reply": "2021-10-11T11:06:30.224729Z",
     "shell.execute_reply.started": "2021-10-11T10:26:34.926235Z"
    },
    "papermill": {
     "duration": 0.246402,
     "end_time": "2021-10-11T11:06:30.224920",
     "exception": false,
     "start_time": "2021-10-11T11:06:29.978518",
     "status": "completed"
    },
    "tags": []
   },
   "outputs": [
    {
     "data": {
      "image/png": "[encoded data removed]",
      "text/plain": [
       "<Figure size 432x432 with 1 Axes>"
      ]
     },
     "metadata": {
      "needs_background": "light"
     },
     "output_type": "display_data"
    }
   ],
   "source": [
    "plt.figure(figsize=(6, 6))\n",
    "\n",
    "plt.pie([669,1200], labels=['Partner', 'No Partner'],autopct='%1.1f%%',pctdistance=1.08, labeldistance=0.8,colors=['#ffb3e6', '#c2c2f0'], startangle=180,frame=True, explode=(0.3,0.3),radius=10,textprops = {\"fontsize\":15}, counterclock = True, )\n",
    "plt.tight_layout()\n",
    "plt.show()"
   ]
  },
  {
   "cell_type": "markdown",
   "id": "a9489e5b",
   "metadata": {
    "papermill": {
     "duration": 0.032871,
     "end_time": "2021-10-11T11:06:30.291330",
     "exception": false,
     "start_time": "2021-10-11T11:06:30.258459",
     "status": "completed"
    },
    "tags": []
   },
   "source": [
    "35.8 percentage of the Customers who have parnters have continued the service while 64.2% has switched to other or discontinued."
   ]
  },
  {
   "cell_type": "code",
   "execution_count": 17,
   "id": "b2add23b",
   "metadata": {
    "execution": {
     "iopub.execute_input": "2021-10-11T11:06:30.361333Z",
     "iopub.status.busy": "2021-10-11T11:06:30.360679Z",
     "iopub.status.idle": "2021-10-11T11:06:30.369595Z",
     "shell.execute_reply": "2021-10-11T11:06:30.370629Z",
     "shell.execute_reply.started": "2021-10-11T10:26:35.221378Z"
    },
    "papermill": {
     "duration": 0.046453,
     "end_time": "2021-10-11T11:06:30.370966",
     "exception": false,
     "start_time": "2021-10-11T11:06:30.324513",
     "status": "completed"
    },
    "tags": []
   },
   "outputs": [
    {
     "name": "stdout",
     "output_type": "stream",
     "text": [
      "326\n",
      "1543\n"
     ]
    }
   ],
   "source": [
    "C1 = Data[Data['Dependents_Yes'] == 1]['Churn_Yes'].sum()\n",
    "C2 = Data[Data['Dependents_Yes'] == 0]['Churn_Yes'].sum()\n",
    "print(C1)\n",
    "print(C2)"
   ]
  },
  {
   "cell_type": "code",
   "execution_count": 18,
   "id": "1dad16f3",
   "metadata": {
    "execution": {
     "iopub.execute_input": "2021-10-11T11:06:30.473766Z",
     "iopub.status.busy": "2021-10-11T11:06:30.442675Z",
     "iopub.status.idle": "2021-10-11T11:06:30.684453Z",
     "shell.execute_reply": "2021-10-11T11:06:30.683943Z",
     "shell.execute_reply.started": "2021-10-11T10:26:35.233021Z"
    },
    "papermill": {
     "duration": 0.278548,
     "end_time": "2021-10-11T11:06:30.684600",
     "exception": false,
     "start_time": "2021-10-11T11:06:30.406052",
     "status": "completed"
    },
    "tags": []
   },
   "outputs": [
    {
     "data": {
      "image/png": "[encoded data removed]",
      "text/plain": [
       "<Figure size 432x432 with 1 Axes>"
      ]
     },
     "metadata": {
      "needs_background": "light"
     },
     "output_type": "display_data"
    }
   ],
   "source": [
    "plt.figure(figsize=(6, 6))\n",
    "\n",
    "plt.pie([326,1543], labels=['Dependent', 'No Dependent'],autopct='%1.1f%%',pctdistance=1.08, labeldistance=0.8,colors=['#ffb3e6', '#c2c2f0'], startangle=180,frame=True, explode=(0.3,0.3),radius=10,textprops = {\"fontsize\":15}, counterclock = True, )\n",
    "plt.tight_layout()\n",
    "plt.show()"
   ]
  },
  {
   "cell_type": "markdown",
   "id": "19cb3cd3",
   "metadata": {
    "papermill": {
     "duration": 0.03458,
     "end_time": "2021-10-11T11:06:30.755045",
     "exception": false,
     "start_time": "2021-10-11T11:06:30.720465",
     "status": "completed"
    },
    "tags": []
   },
   "source": [
    "17.4% of Customers who have dependent have switched or discontinued, while 82.6% customer whiout any dependent have switched or discontinued."
   ]
  },
  {
   "cell_type": "code",
   "execution_count": 19,
   "id": "029a2ac9",
   "metadata": {
    "execution": {
     "iopub.execute_input": "2021-10-11T11:06:30.830482Z",
     "iopub.status.busy": "2021-10-11T11:06:30.829800Z",
     "iopub.status.idle": "2021-10-11T11:06:30.833423Z",
     "shell.execute_reply": "2021-10-11T11:06:30.832745Z",
     "shell.execute_reply.started": "2021-10-11T10:26:35.549509Z"
    },
    "papermill": {
     "duration": 0.043724,
     "end_time": "2021-10-11T11:06:30.833565",
     "exception": false,
     "start_time": "2021-10-11T11:06:30.789841",
     "status": "completed"
    },
    "tags": []
   },
   "outputs": [],
   "source": [
    "X = Data.drop(['Churn_Yes','customerID'], axis=1)\n",
    "Y = Data['Churn_Yes']"
   ]
  },
  {
   "cell_type": "code",
   "execution_count": 20,
   "id": "43ddfec1",
   "metadata": {
    "execution": {
     "iopub.execute_input": "2021-10-11T11:06:30.910205Z",
     "iopub.status.busy": "2021-10-11T11:06:30.909500Z",
     "iopub.status.idle": "2021-10-11T11:06:31.076002Z",
     "shell.execute_reply": "2021-10-11T11:06:31.075270Z",
     "shell.execute_reply.started": "2021-10-11T10:26:35.557665Z"
    },
    "papermill": {
     "duration": 0.206695,
     "end_time": "2021-10-11T11:06:31.076146",
     "exception": false,
     "start_time": "2021-10-11T11:06:30.869451",
     "status": "completed"
    },
    "tags": []
   },
   "outputs": [],
   "source": [
    "from sklearn.model_selection import train_test_split\n",
    "\n",
    "x_train,x_test,y_train,y_test = train_test_split(X,Y, test_size=0.3, random_state=20)\n"
   ]
  },
  {
   "cell_type": "code",
   "execution_count": 21,
   "id": "6353c700",
   "metadata": {
    "execution": {
     "iopub.execute_input": "2021-10-11T11:06:31.152553Z",
     "iopub.status.busy": "2021-10-11T11:06:31.151926Z",
     "iopub.status.idle": "2021-10-11T11:06:31.801522Z",
     "shell.execute_reply": "2021-10-11T11:06:31.802081Z",
     "shell.execute_reply.started": "2021-10-11T11:00:14.560417Z"
    },
    "papermill": {
     "duration": 0.691139,
     "end_time": "2021-10-11T11:06:31.802282",
     "exception": false,
     "start_time": "2021-10-11T11:06:31.111143",
     "status": "completed"
    },
    "tags": []
   },
   "outputs": [
    {
     "name": "stderr",
     "output_type": "stream",
     "text": [
      "/opt/conda/lib/python3.7/site-packages/xgboost/sklearn.py:1146: UserWarning:\n",
      "\n",
      "The use of label encoder in XGBClassifier is deprecated and will be removed in a future release. To remove this warning, do the following: 1) Pass option use_label_encoder=False when constructing XGBClassifier object; and 2) Encode your labels (y) as integers starting with 0, i.e. 0, 1, 2, ..., [num_class - 1].\n",
      "\n"
     ]
    },
    {
     "name": "stdout",
     "output_type": "stream",
     "text": [
      "[11:06:31] WARNING: ../src/learner.cc:1095: Starting in XGBoost 1.3.0, the default evaluation metric used with the objective 'binary:logistic' was changed from 'error' to 'logloss'. Explicitly set eval_metric if you'd like to restore the old behavior.\n",
      "Accuracy Score: 79.13%\n",
      "_______________________________________________\n",
      "Confusion Matrix: \n",
      " [[1381  199]\n",
      " [ 242  291]]\n",
      "\n"
     ]
    }
   ],
   "source": [
    "from xgboost import XGBClassifier\n",
    "from sklearn.metrics import accuracy_score, confusion_matrix, classification_report\n",
    "\n",
    "model = XGBClassifier()\n",
    "model.fit(x_train, y_train)\n",
    "pred = model.predict(x_test)\n",
    "print(f\"Accuracy Score: {accuracy_score(y_test, pred) * 100:.2f}%\")\n",
    "print(\"_______________________________________________\")\n",
    "print(f\"Confusion Matrix: \\n {confusion_matrix(y_test, pred)}\\n\")"
   ]
  },
  {
   "cell_type": "markdown",
   "id": "09f8db9d",
   "metadata": {
    "papermill": {
     "duration": 0.035447,
     "end_time": "2021-10-11T11:06:31.873856",
     "exception": false,
     "start_time": "2021-10-11T11:06:31.838409",
     "status": "completed"
    },
    "tags": []
   },
   "source": [
    "Our model predicted 1381 customer correctly who churned and 199 customer incorrectly. It also predicted that 242 customer will not churn which is incorrect and 291 customer who will not churn correctly."
   ]
  }
 ],
 "metadata": {
  "kernelspec": {
   "display_name": "Python 3",
   "language": "python",
   "name": "python3"
  },
  "language_info": {
   "codemirror_mode": {
    "name": "ipython",
    "version": 3
   },
   "file_extension": ".py",
   "mimetype": "text/x-python",
   "name": "python",
   "nbconvert_exporter": "python",
   "pygments_lexer": "ipython3",
   "version": "3.7.10"
  },
  "papermill": {
   "default_parameters": {},
   "duration": 16.823853,
   "end_time": "2021-10-11T11:06:33.146625",
   "environment_variables": {},
   "exception": null,
   "input_path": "__notebook__.ipynb",
   "output_path": "__notebook__.ipynb",
   "parameters": {},
   "start_time": "2021-10-11T11:06:16.322772",
   "version": "2.3.3"
  }
 },
 "nbformat": 4,
 "nbformat_minor": 5
}
